{
 "cells": [
  {
   "cell_type": "code",
   "execution_count": 1,
   "id": "fluid-flight",
   "metadata": {},
   "outputs": [
    {
     "name": "stdout",
     "output_type": "stream",
     "text": [
      "Segmentation Models: using `tf.keras` framework.\n"
     ]
    }
   ],
   "source": [
    "import tensorflow as tf\n",
    "import tensorflow_datasets as tfds\n",
    "import segmentation_models as sm"
   ]
  },
  {
   "cell_type": "code",
   "execution_count": 31,
   "id": "nasty-pacific",
   "metadata": {},
   "outputs": [],
   "source": [
    "from matplotlib import pyplot as plt\n",
    "import numpy as np"
   ]
  },
  {
   "cell_type": "markdown",
   "id": "brutal-miracle",
   "metadata": {},
   "source": [
    "# Load and prepare data"
   ]
  },
  {
   "cell_type": "code",
   "execution_count": 15,
   "id": "furnished-webster",
   "metadata": {},
   "outputs": [],
   "source": [
    "(train_ds, valid_ds, test_ds), info_ds = tfds.load(\n",
    "    'oxford_iiit_pet', split=['train', 'test[50:]', 'test[:50]'], \n",
    "    with_info=True, data_dir='data/'\n",
    ")"
   ]
  },
  {
   "cell_type": "code",
   "execution_count": 4,
   "id": "verbal-philosophy",
   "metadata": {},
   "outputs": [],
   "source": [
    "@tf.function\n",
    "def map_data(data):\n",
    "    image, mask = data['image'], data['segmentation_mask']\n",
    "    \n",
    "    # Image norm\n",
    "    image = tf.cast(image, tf.float32)\n",
    "    image = tf.image.resize(image, (256, 256))\n",
    "    image = image / 255.\n",
    "    \n",
    "    # Mask norm\n",
    "    mask = tf.cast(mask, tf.float32)\n",
    "    mask = tf.image.resize(mask, (256, 256))\n",
    "    mask -= 1\n",
    "    mask = tf.cast(mask, tf.int32)\n",
    "    mask = tf.squeeze(mask, axis=-1)\n",
    "    mask = tf.one_hot(mask, 3)\n",
    "    return image, mask"
   ]
  },
  {
   "cell_type": "code",
   "execution_count": 5,
   "id": "compact-rugby",
   "metadata": {},
   "outputs": [],
   "source": [
    "train_ds = train_ds.shuffle(len(train_ds)).map(map_data, num_parallel_calls=tf.data.experimental.AUTOTUNE).batch(32).prefetch(tf.data.experimental.AUTOTUNE)\n",
    "vali_ds = valid_ds.map(map_data, num_parallel_calls=tf.data.experimental.AUTOTUNE).batch(32).prefetch(tf.data.experimental.AUTOTUNE)"
   ]
  },
  {
   "cell_type": "markdown",
   "id": "overhead-peeing",
   "metadata": {},
   "source": [
    "# Model building\n",
    "- Build mini version of unet"
   ]
  },
  {
   "cell_type": "code",
   "execution_count": 6,
   "id": "unlikely-christian",
   "metadata": {
    "scrolled": false
   },
   "outputs": [
    {
     "name": "stdout",
     "output_type": "stream",
     "text": [
      "Model: \"functional_1\"\n",
      "__________________________________________________________________________________________________\n",
      "Layer (type)                    Output Shape         Param #     Connected to                     \n",
      "==================================================================================================\n",
      "input_1 (InputLayer)            [(None, 256, 256, 3) 0                                            \n",
      "__________________________________________________________________________________________________\n",
      "conv2d (Conv2D)                 (None, 256, 256, 64) 1792        input_1[0][0]                    \n",
      "__________________________________________________________________________________________________\n",
      "max_pooling2d (MaxPooling2D)    (None, 128, 128, 64) 0           conv2d[0][0]                     \n",
      "__________________________________________________________________________________________________\n",
      "conv2d_1 (Conv2D)               (None, 128, 128, 128 73856       max_pooling2d[0][0]              \n",
      "__________________________________________________________________________________________________\n",
      "max_pooling2d_1 (MaxPooling2D)  (None, 64, 64, 128)  0           conv2d_1[0][0]                   \n",
      "__________________________________________________________________________________________________\n",
      "conv2d_transpose (Conv2DTranspo (None, 256, 256, 64) 73792       max_pooling2d_1[0][0]            \n",
      "__________________________________________________________________________________________________\n",
      "concatenate (Concatenate)       (None, 256, 256, 128 0           conv2d[0][0]                     \n",
      "                                                                 conv2d_transpose[0][0]           \n",
      "__________________________________________________________________________________________________\n",
      "conv2d_2 (Conv2D)               (None, 256, 256, 64) 73792       concatenate[0][0]                \n",
      "__________________________________________________________________________________________________\n",
      "conv2d_3 (Conv2D)               (None, 256, 256, 3)  195         conv2d_2[0][0]                   \n",
      "==================================================================================================\n",
      "Total params: 223,427\n",
      "Trainable params: 223,427\n",
      "Non-trainable params: 0\n",
      "__________________________________________________________________________________________________\n"
     ]
    }
   ],
   "source": [
    "input_layer = tf.keras.layers.Input(shape=(256, 256, 3))\n",
    "\n",
    "# First downsampling layer\n",
    "conv1 = tf.keras.layers.Conv2D(64, (3, 3), padding='same', activation='relu')(input_layer)\n",
    "pool1 = tf.keras.layers.MaxPooling2D((2, 2))(conv1)\n",
    "\n",
    "conv2 = tf.keras.layers.Conv2D(128, (3, 3), padding='same', activation='relu')(pool1)\n",
    "pool2 = tf.keras.layers.MaxPooling2D((2, 2))(conv2)\n",
    "\n",
    "ups = tf.keras.layers.Conv2DTranspose(64, (3, 3), strides=(4, 4), activation='relu', padding='same')(pool2)\n",
    "up3 = tf.keras.layers.concatenate([conv1, ups], axis=3)\n",
    "\n",
    "conv4 = tf.keras.layers.Conv2D(64, (3, 3), padding='same', activation='relu')(up3)\n",
    "conv5 = tf.keras.layers.Conv2D(3, (1, 1), activation='softmax')(conv4) # 3 represents the num of classes\n",
    "\n",
    "model = tf.keras.Model(inputs=input_layer, outputs=conv5)\n",
    " \n",
    "model.summary()"
   ]
  },
  {
   "cell_type": "markdown",
   "id": "serious-reduction",
   "metadata": {},
   "source": [
    "# Train and plot history"
   ]
  },
  {
   "cell_type": "code",
   "execution_count": 7,
   "id": "indian-belly",
   "metadata": {},
   "outputs": [],
   "source": [
    "model.compile(\n",
    "    loss=tf.keras.losses.CategoricalCrossentropy(), \n",
    "    optimizer=tf.keras.optimizers.Adam(1e-4), \n",
    "    metrics=[sm.metrics.IOUScore(threshold=0.5), 'accuracy', sm.metrics.FScore(threshold=0.5)]\n",
    ")"
   ]
  },
  {
   "cell_type": "code",
   "execution_count": 8,
   "id": "fatal-encoding",
   "metadata": {},
   "outputs": [
    {
     "name": "stdout",
     "output_type": "stream",
     "text": [
      "Epoch 1/10\n",
      "  2/115 [..............................] - ETA: 22s - loss: 1.1540 - iou_score: 7.6102e-07 - accuracy: 0.1110 - f1-score: 1.5220e-06WARNING:tensorflow:Callbacks method `on_train_batch_end` is slow compared to the batch time (batch time: 0.1330s vs `on_train_batch_end` time: 0.2468s). Check your callbacks.\n"
     ]
    },
    {
     "name": "stderr",
     "output_type": "stream",
     "text": [
      "WARNING:tensorflow:Callbacks method `on_train_batch_end` is slow compared to the batch time (batch time: 0.1330s vs `on_train_batch_end` time: 0.2468s). Check your callbacks.\n"
     ]
    },
    {
     "name": "stdout",
     "output_type": "stream",
     "text": [
      "115/115 [==============================] - 52s 456ms/step - loss: 0.9632 - iou_score: 0.1218 - accuracy: 0.5648 - f1-score: 0.1663 - val_loss: 0.9322 - val_iou_score: 0.1763 - val_accuracy: 0.5856 - val_f1-score: 0.2304\n",
      "Epoch 2/10\n",
      "115/115 [==============================] - 53s 460ms/step - loss: 0.8963 - iou_score: 0.1893 - accuracy: 0.5958 - f1-score: 0.2411 - val_loss: 0.8901 - val_iou_score: 0.1882 - val_accuracy: 0.5856 - val_f1-score: 0.2404\n",
      "Epoch 3/10\n",
      "115/115 [==============================] - 52s 456ms/step - loss: 0.8614 - iou_score: 0.1925 - accuracy: 0.5958 - f1-score: 0.2439 - val_loss: 0.8530 - val_iou_score: 0.1833 - val_accuracy: 0.5858 - val_f1-score: 0.2363\n",
      "Epoch 4/10\n",
      "115/115 [==============================] - 53s 457ms/step - loss: 0.8319 - iou_score: 0.1895 - accuracy: 0.5979 - f1-score: 0.2413 - val_loss: 0.8265 - val_iou_score: 0.1875 - val_accuracy: 0.6007 - val_f1-score: 0.2400\n",
      "Epoch 5/10\n",
      "115/115 [==============================] - 53s 460ms/step - loss: 0.8122 - iou_score: 0.1941 - accuracy: 0.6098 - f1-score: 0.2469 - val_loss: 0.8125 - val_iou_score: 0.2047 - val_accuracy: 0.6143 - val_f1-score: 0.2620\n",
      "Epoch 6/10\n",
      "115/115 [==============================] - 53s 457ms/step - loss: 0.8004 - iou_score: 0.2070 - accuracy: 0.6204 - f1-score: 0.2666 - val_loss: 0.7980 - val_iou_score: 0.2160 - val_accuracy: 0.6194 - val_f1-score: 0.2740\n",
      "Epoch 7/10\n",
      "115/115 [==============================] - 53s 463ms/step - loss: 0.7879 - iou_score: 0.2250 - accuracy: 0.6313 - f1-score: 0.2941 - val_loss: 0.8077 - val_iou_score: 0.2191 - val_accuracy: 0.6130 - val_f1-score: 0.2785\n",
      "Epoch 8/10\n",
      "115/115 [==============================] - 53s 461ms/step - loss: 0.7748 - iou_score: 0.2447 - accuracy: 0.6419 - f1-score: 0.3227 - val_loss: 0.7775 - val_iou_score: 0.2432 - val_accuracy: 0.6357 - val_f1-score: 0.3190\n",
      "Epoch 9/10\n",
      "115/115 [==============================] - 53s 462ms/step - loss: 0.7681 - iou_score: 0.2631 - accuracy: 0.6473 - f1-score: 0.3517 - val_loss: 0.7778 - val_iou_score: 0.2470 - val_accuracy: 0.6311 - val_f1-score: 0.3247\n",
      "Epoch 10/10\n",
      "115/115 [==============================] - 53s 464ms/step - loss: 0.7586 - iou_score: 0.2745 - accuracy: 0.6522 - f1-score: 0.3676 - val_loss: 0.7589 - val_iou_score: 0.2773 - val_accuracy: 0.6542 - val_f1-score: 0.3744\n"
     ]
    }
   ],
   "source": [
    "history = model.fit(train_ds, validation_data=vali_ds, epochs=10)"
   ]
  },
  {
   "cell_type": "code",
   "execution_count": 14,
   "id": "standard-jimmy",
   "metadata": {},
   "outputs": [
    {
     "data": {
      "text/plain": [
       "<matplotlib.legend.Legend at 0x7f6c45392d30>"
      ]
     },
     "execution_count": 14,
     "metadata": {},
     "output_type": "execute_result"
    },
    {
     "data": {
      "image/png": "[encoded data removed]",
      "text/plain": [
       "<Figure size 1080x720 with 2 Axes>"
      ]
     },
     "metadata": {
      "needs_background": "light"
     },
     "output_type": "display_data"
    }
   ],
   "source": [
    "plt.figure(figsize=(15, 10))\n",
    "\n",
    "plt.subplot(221)\n",
    "plt.title('Loss Histroy')\n",
    "plt.plot(history.history['loss'], label='train_loss')\n",
    "plt.plot(history.history['val_loss'], label='val_loss')\n",
    "plt.legend()\n",
    "\n",
    "plt.subplot(222)\n",
    "plt.title('IoU History')\n",
    "plt.plot(history.history['iou_score'], label='train_iou_score')\n",
    "plt.plot(history.history['val_iou_score'], label='val_iou_score')\n",
    "plt.legend()"
   ]
  },
  {
   "cell_type": "markdown",
   "id": "broadband-christmas",
   "metadata": {},
   "source": [
    "# Evaluation"
   ]
  },
  {
   "cell_type": "code",
   "execution_count": 22,
   "id": "funny-jacob",
   "metadata": {},
   "outputs": [],
   "source": [
    "test = next(iter(test_ds.map(map_data)))"
   ]
  },
  {
   "cell_type": "code",
   "execution_count": 44,
   "id": "coupled-whale",
   "metadata": {},
   "outputs": [],
   "source": [
    "image, gt_mask = test[0], test[1]"
   ]
  },
  {
   "cell_type": "code",
   "execution_count": 53,
   "id": "complex-trade",
   "metadata": {},
   "outputs": [],
   "source": [
    "pred = model.predict(tf.expand_dims(image, axis=0))[0]\n",
    "pred = np.argmax(pred, axis=-1)\n",
    "pred = np.expand_dims(pred, axis=-1)\n",
    "pred = (pred * (255 / 3)).astype(np.uint8)\n",
    "pred = np.concatenate([pred, pred, pred], axis=2)"
   ]
  },
  {
   "cell_type": "code",
   "execution_count": 54,
   "id": "grave-landing",
   "metadata": {},
   "outputs": [
    {
     "ename": "SyntaxError",
     "evalue": "invalid syntax (<ipython-input-54-843e87b4b139>, line 2)",
     "output_type": "error",
     "traceback": [
      "\u001b[0;36m  File \u001b[0;32m\"<ipython-input-54-843e87b4b139>\"\u001b[0;36m, line \u001b[0;32m2\u001b[0m\n\u001b[0;31m    plt.subplot(221)\u001b[0m\n\u001b[0m    ^\u001b[0m\n\u001b[0;31mSyntaxError\u001b[0m\u001b[0;31m:\u001b[0m invalid syntax\n"
     ]
    }
   ],
   "source": [
    "plt.figure(figsize=(15, 10))\n",
    "plt.subplot(221)\n",
    "plt.titl\n",
    "plt.imshow(pred)\n",
    "\n",
    "plt.subplot(222)\n",
    "plt.imshow(gt_mask)\n",
    "\n",
    "plt.subplot(223)\n",
    "plt.imshow(image)"
   ]
  }
 ],
 "metadata": {
  "kernelspec": {
   "display_name": "Python 3",
   "language": "python",
   "name": "python3"
  },
  "language_info": {
   "codemirror_mode": {
    "name": "ipython",
    "version": 3
   },
   "file_extension": ".py",
   "mimetype": "text/x-python",
   "name": "python",
   "nbconvert_exporter": "python",
   "pygments_lexer": "ipython3",
   "version": "3.8.5"
  }
 },
 "nbformat": 4,
 "nbformat_minor": 5
}
